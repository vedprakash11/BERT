{
 "cells": [
  {
   "cell_type": "code",
   "execution_count": 1,
   "id": "c50f978e",
   "metadata": {},
   "outputs": [],
   "source": [
    "import numpy as np \n",
    "import pandas as pd\n",
    "import tensorflow as tf\n",
    "import tensorflow_hub as hub\n",
    "import tensorflow_text as text\n",
    "from wordcloud import STOPWORDS\n",
    "import re"
   ]
  },
  {
   "cell_type": "code",
   "execution_count": 2,
   "id": "3a8b863b",
   "metadata": {},
   "outputs": [],
   "source": [
    "df_train=pd.read_csv(\"C:/Users/vedpr/Downloads/Notebooks/BERT/Corona_NLP_train.csv\",encoding = \"ISO-8859-1\", engine='python')\n",
    "df_test=pd.read_csv(\"C:/Users/vedpr/Downloads/Notebooks/BERT/Corona_NLP_test.csv\",encoding = \"ISO-8859-1\", engine='python')"
   ]
  },
  {
   "cell_type": "code",
   "execution_count": 3,
   "id": "7756bc91",
   "metadata": {},
   "outputs": [
    {
     "data": {
      "text/plain": [
       "(41157, 6)"
      ]
     },
     "execution_count": 3,
     "metadata": {},
     "output_type": "execute_result"
    }
   ],
   "source": [
    "df_train.shape"
   ]
  },
  {
   "cell_type": "code",
   "execution_count": 4,
   "id": "84e2c672",
   "metadata": {},
   "outputs": [
    {
     "data": {
      "text/html": [
       "<div>\n",
       "<style scoped>\n",
       "    .dataframe tbody tr th:only-of-type {\n",
       "        vertical-align: middle;\n",
       "    }\n",
       "\n",
       "    .dataframe tbody tr th {\n",
       "        vertical-align: top;\n",
       "    }\n",
       "\n",
       "    .dataframe thead th {\n",
       "        text-align: right;\n",
       "    }\n",
       "</style>\n",
       "<table border=\"1\" class=\"dataframe\">\n",
       "  <thead>\n",
       "    <tr style=\"text-align: right;\">\n",
       "      <th></th>\n",
       "      <th>UserName</th>\n",
       "      <th>ScreenName</th>\n",
       "      <th>Location</th>\n",
       "      <th>TweetAt</th>\n",
       "      <th>OriginalTweet</th>\n",
       "      <th>Sentiment</th>\n",
       "    </tr>\n",
       "  </thead>\n",
       "  <tbody>\n",
       "    <tr>\n",
       "      <th>0</th>\n",
       "      <td>1</td>\n",
       "      <td>44953</td>\n",
       "      <td>NYC</td>\n",
       "      <td>02-03-2020</td>\n",
       "      <td>TRENDING: New Yorkers encounter empty supermar...</td>\n",
       "      <td>Extremely Negative</td>\n",
       "    </tr>\n",
       "    <tr>\n",
       "      <th>1</th>\n",
       "      <td>2</td>\n",
       "      <td>44954</td>\n",
       "      <td>Seattle, WA</td>\n",
       "      <td>02-03-2020</td>\n",
       "      <td>When I couldn't find hand sanitizer at Fred Me...</td>\n",
       "      <td>Positive</td>\n",
       "    </tr>\n",
       "    <tr>\n",
       "      <th>2</th>\n",
       "      <td>3</td>\n",
       "      <td>44955</td>\n",
       "      <td>NaN</td>\n",
       "      <td>02-03-2020</td>\n",
       "      <td>Find out how you can protect yourself and love...</td>\n",
       "      <td>Extremely Positive</td>\n",
       "    </tr>\n",
       "    <tr>\n",
       "      <th>3</th>\n",
       "      <td>4</td>\n",
       "      <td>44956</td>\n",
       "      <td>Chicagoland</td>\n",
       "      <td>02-03-2020</td>\n",
       "      <td>#Panic buying hits #NewYork City as anxious sh...</td>\n",
       "      <td>Negative</td>\n",
       "    </tr>\n",
       "    <tr>\n",
       "      <th>4</th>\n",
       "      <td>5</td>\n",
       "      <td>44957</td>\n",
       "      <td>Melbourne, Victoria</td>\n",
       "      <td>03-03-2020</td>\n",
       "      <td>#toiletpaper #dunnypaper #coronavirus #coronav...</td>\n",
       "      <td>Neutral</td>\n",
       "    </tr>\n",
       "  </tbody>\n",
       "</table>\n",
       "</div>"
      ],
      "text/plain": [
       "   UserName  ScreenName             Location     TweetAt  \\\n",
       "0         1       44953                  NYC  02-03-2020   \n",
       "1         2       44954          Seattle, WA  02-03-2020   \n",
       "2         3       44955                  NaN  02-03-2020   \n",
       "3         4       44956          Chicagoland  02-03-2020   \n",
       "4         5       44957  Melbourne, Victoria  03-03-2020   \n",
       "\n",
       "                                       OriginalTweet           Sentiment  \n",
       "0  TRENDING: New Yorkers encounter empty supermar...  Extremely Negative  \n",
       "1  When I couldn't find hand sanitizer at Fred Me...            Positive  \n",
       "2  Find out how you can protect yourself and love...  Extremely Positive  \n",
       "3  #Panic buying hits #NewYork City as anxious sh...            Negative  \n",
       "4  #toiletpaper #dunnypaper #coronavirus #coronav...             Neutral  "
      ]
     },
     "execution_count": 4,
     "metadata": {},
     "output_type": "execute_result"
    }
   ],
   "source": [
    "df_test.head()"
   ]
  },
  {
   "cell_type": "code",
   "execution_count": 5,
   "id": "510826b0",
   "metadata": {},
   "outputs": [],
   "source": [
    "df=df_train.append(df_test)"
   ]
  },
  {
   "cell_type": "code",
   "execution_count": 6,
   "id": "08de58e2",
   "metadata": {},
   "outputs": [
    {
     "data": {
      "text/html": [
       "<div>\n",
       "<style scoped>\n",
       "    .dataframe tbody tr th:only-of-type {\n",
       "        vertical-align: middle;\n",
       "    }\n",
       "\n",
       "    .dataframe tbody tr th {\n",
       "        vertical-align: top;\n",
       "    }\n",
       "\n",
       "    .dataframe thead tr th {\n",
       "        text-align: left;\n",
       "    }\n",
       "\n",
       "    .dataframe thead tr:last-of-type th {\n",
       "        text-align: right;\n",
       "    }\n",
       "</style>\n",
       "<table border=\"1\" class=\"dataframe\">\n",
       "  <thead>\n",
       "    <tr>\n",
       "      <th></th>\n",
       "      <th colspan=\"8\" halign=\"left\">UserName</th>\n",
       "      <th colspan=\"8\" halign=\"left\">ScreenName</th>\n",
       "    </tr>\n",
       "    <tr>\n",
       "      <th></th>\n",
       "      <th>count</th>\n",
       "      <th>mean</th>\n",
       "      <th>std</th>\n",
       "      <th>min</th>\n",
       "      <th>25%</th>\n",
       "      <th>50%</th>\n",
       "      <th>75%</th>\n",
       "      <th>max</th>\n",
       "      <th>count</th>\n",
       "      <th>mean</th>\n",
       "      <th>std</th>\n",
       "      <th>min</th>\n",
       "      <th>25%</th>\n",
       "      <th>50%</th>\n",
       "      <th>75%</th>\n",
       "      <th>max</th>\n",
       "    </tr>\n",
       "    <tr>\n",
       "      <th>Sentiment</th>\n",
       "      <th></th>\n",
       "      <th></th>\n",
       "      <th></th>\n",
       "      <th></th>\n",
       "      <th></th>\n",
       "      <th></th>\n",
       "      <th></th>\n",
       "      <th></th>\n",
       "      <th></th>\n",
       "      <th></th>\n",
       "      <th></th>\n",
       "      <th></th>\n",
       "      <th></th>\n",
       "      <th></th>\n",
       "      <th></th>\n",
       "      <th></th>\n",
       "    </tr>\n",
       "  </thead>\n",
       "  <tbody>\n",
       "    <tr>\n",
       "      <th>Extremely Negative</th>\n",
       "      <td>6073.0</td>\n",
       "      <td>20932.917504</td>\n",
       "      <td>12957.616546</td>\n",
       "      <td>1.0</td>\n",
       "      <td>9768.00</td>\n",
       "      <td>19657.0</td>\n",
       "      <td>31976.00</td>\n",
       "      <td>44952.0</td>\n",
       "      <td>6073.0</td>\n",
       "      <td>65884.917504</td>\n",
       "      <td>12957.616546</td>\n",
       "      <td>44953.0</td>\n",
       "      <td>54720.00</td>\n",
       "      <td>64609.0</td>\n",
       "      <td>76928.00</td>\n",
       "      <td>89904.0</td>\n",
       "    </tr>\n",
       "    <tr>\n",
       "      <th>Extremely Positive</th>\n",
       "      <td>7223.0</td>\n",
       "      <td>23125.802852</td>\n",
       "      <td>12996.528467</td>\n",
       "      <td>3.0</td>\n",
       "      <td>11831.50</td>\n",
       "      <td>23565.0</td>\n",
       "      <td>34441.50</td>\n",
       "      <td>44950.0</td>\n",
       "      <td>7223.0</td>\n",
       "      <td>68077.802852</td>\n",
       "      <td>12996.528467</td>\n",
       "      <td>44955.0</td>\n",
       "      <td>56783.50</td>\n",
       "      <td>68517.0</td>\n",
       "      <td>79393.50</td>\n",
       "      <td>89902.0</td>\n",
       "    </tr>\n",
       "    <tr>\n",
       "      <th>Negative</th>\n",
       "      <td>10958.0</td>\n",
       "      <td>21809.559317</td>\n",
       "      <td>13007.373025</td>\n",
       "      <td>4.0</td>\n",
       "      <td>10448.50</td>\n",
       "      <td>21588.5</td>\n",
       "      <td>32953.75</td>\n",
       "      <td>44955.0</td>\n",
       "      <td>10958.0</td>\n",
       "      <td>66761.559317</td>\n",
       "      <td>13007.373025</td>\n",
       "      <td>44956.0</td>\n",
       "      <td>55400.50</td>\n",
       "      <td>66540.5</td>\n",
       "      <td>77905.75</td>\n",
       "      <td>89907.0</td>\n",
       "    </tr>\n",
       "    <tr>\n",
       "      <th>Neutral</th>\n",
       "      <td>8332.0</td>\n",
       "      <td>23285.213994</td>\n",
       "      <td>12940.044332</td>\n",
       "      <td>5.0</td>\n",
       "      <td>12051.75</td>\n",
       "      <td>23644.5</td>\n",
       "      <td>34503.50</td>\n",
       "      <td>44954.0</td>\n",
       "      <td>8332.0</td>\n",
       "      <td>68237.213994</td>\n",
       "      <td>12940.044332</td>\n",
       "      <td>44957.0</td>\n",
       "      <td>57003.75</td>\n",
       "      <td>68596.5</td>\n",
       "      <td>79455.50</td>\n",
       "      <td>89906.0</td>\n",
       "    </tr>\n",
       "    <tr>\n",
       "      <th>Positive</th>\n",
       "      <td>12369.0</td>\n",
       "      <td>22906.755114</td>\n",
       "      <td>12882.859816</td>\n",
       "      <td>2.0</td>\n",
       "      <td>11806.00</td>\n",
       "      <td>23101.0</td>\n",
       "      <td>34066.00</td>\n",
       "      <td>44953.0</td>\n",
       "      <td>12369.0</td>\n",
       "      <td>67858.755114</td>\n",
       "      <td>12882.859816</td>\n",
       "      <td>44954.0</td>\n",
       "      <td>56758.00</td>\n",
       "      <td>68053.0</td>\n",
       "      <td>79018.00</td>\n",
       "      <td>89905.0</td>\n",
       "    </tr>\n",
       "  </tbody>\n",
       "</table>\n",
       "</div>"
      ],
      "text/plain": [
       "                   UserName                                             \\\n",
       "                      count          mean           std  min       25%   \n",
       "Sentiment                                                                \n",
       "Extremely Negative   6073.0  20932.917504  12957.616546  1.0   9768.00   \n",
       "Extremely Positive   7223.0  23125.802852  12996.528467  3.0  11831.50   \n",
       "Negative            10958.0  21809.559317  13007.373025  4.0  10448.50   \n",
       "Neutral              8332.0  23285.213994  12940.044332  5.0  12051.75   \n",
       "Positive            12369.0  22906.755114  12882.859816  2.0  11806.00   \n",
       "\n",
       "                                               ScreenName                \\\n",
       "                        50%       75%      max      count          mean   \n",
       "Sentiment                                                                 \n",
       "Extremely Negative  19657.0  31976.00  44952.0     6073.0  65884.917504   \n",
       "Extremely Positive  23565.0  34441.50  44950.0     7223.0  68077.802852   \n",
       "Negative            21588.5  32953.75  44955.0    10958.0  66761.559317   \n",
       "Neutral             23644.5  34503.50  44954.0     8332.0  68237.213994   \n",
       "Positive            23101.0  34066.00  44953.0    12369.0  67858.755114   \n",
       "\n",
       "                                                                        \\\n",
       "                             std      min       25%      50%       75%   \n",
       "Sentiment                                                                \n",
       "Extremely Negative  12957.616546  44953.0  54720.00  64609.0  76928.00   \n",
       "Extremely Positive  12996.528467  44955.0  56783.50  68517.0  79393.50   \n",
       "Negative            13007.373025  44956.0  55400.50  66540.5  77905.75   \n",
       "Neutral             12940.044332  44957.0  57003.75  68596.5  79455.50   \n",
       "Positive            12882.859816  44954.0  56758.00  68053.0  79018.00   \n",
       "\n",
       "                             \n",
       "                        max  \n",
       "Sentiment                    \n",
       "Extremely Negative  89904.0  \n",
       "Extremely Positive  89902.0  \n",
       "Negative            89907.0  \n",
       "Neutral             89906.0  \n",
       "Positive            89905.0  "
      ]
     },
     "execution_count": 6,
     "metadata": {},
     "output_type": "execute_result"
    }
   ],
   "source": [
    "df.groupby('Sentiment').describe()"
   ]
  },
  {
   "cell_type": "code",
   "execution_count": 7,
   "id": "d1606167",
   "metadata": {},
   "outputs": [],
   "source": [
    "df=df[(df['Sentiment']=='Extremely Negative') | (df['Sentiment']== 'Extremely Positive')]"
   ]
  },
  {
   "cell_type": "code",
   "execution_count": 8,
   "id": "aa3f6cc0",
   "metadata": {},
   "outputs": [
    {
     "data": {
      "text/html": [
       "<div>\n",
       "<style scoped>\n",
       "    .dataframe tbody tr th:only-of-type {\n",
       "        vertical-align: middle;\n",
       "    }\n",
       "\n",
       "    .dataframe tbody tr th {\n",
       "        vertical-align: top;\n",
       "    }\n",
       "\n",
       "    .dataframe thead tr th {\n",
       "        text-align: left;\n",
       "    }\n",
       "\n",
       "    .dataframe thead tr:last-of-type th {\n",
       "        text-align: right;\n",
       "    }\n",
       "</style>\n",
       "<table border=\"1\" class=\"dataframe\">\n",
       "  <thead>\n",
       "    <tr>\n",
       "      <th></th>\n",
       "      <th colspan=\"8\" halign=\"left\">UserName</th>\n",
       "      <th colspan=\"8\" halign=\"left\">ScreenName</th>\n",
       "    </tr>\n",
       "    <tr>\n",
       "      <th></th>\n",
       "      <th>count</th>\n",
       "      <th>mean</th>\n",
       "      <th>std</th>\n",
       "      <th>min</th>\n",
       "      <th>25%</th>\n",
       "      <th>50%</th>\n",
       "      <th>75%</th>\n",
       "      <th>max</th>\n",
       "      <th>count</th>\n",
       "      <th>mean</th>\n",
       "      <th>std</th>\n",
       "      <th>min</th>\n",
       "      <th>25%</th>\n",
       "      <th>50%</th>\n",
       "      <th>75%</th>\n",
       "      <th>max</th>\n",
       "    </tr>\n",
       "    <tr>\n",
       "      <th>Sentiment</th>\n",
       "      <th></th>\n",
       "      <th></th>\n",
       "      <th></th>\n",
       "      <th></th>\n",
       "      <th></th>\n",
       "      <th></th>\n",
       "      <th></th>\n",
       "      <th></th>\n",
       "      <th></th>\n",
       "      <th></th>\n",
       "      <th></th>\n",
       "      <th></th>\n",
       "      <th></th>\n",
       "      <th></th>\n",
       "      <th></th>\n",
       "      <th></th>\n",
       "    </tr>\n",
       "  </thead>\n",
       "  <tbody>\n",
       "    <tr>\n",
       "      <th>Extremely Negative</th>\n",
       "      <td>6073.0</td>\n",
       "      <td>20932.917504</td>\n",
       "      <td>12957.616546</td>\n",
       "      <td>1.0</td>\n",
       "      <td>9768.0</td>\n",
       "      <td>19657.0</td>\n",
       "      <td>31976.0</td>\n",
       "      <td>44952.0</td>\n",
       "      <td>6073.0</td>\n",
       "      <td>65884.917504</td>\n",
       "      <td>12957.616546</td>\n",
       "      <td>44953.0</td>\n",
       "      <td>54720.0</td>\n",
       "      <td>64609.0</td>\n",
       "      <td>76928.0</td>\n",
       "      <td>89904.0</td>\n",
       "    </tr>\n",
       "    <tr>\n",
       "      <th>Extremely Positive</th>\n",
       "      <td>7223.0</td>\n",
       "      <td>23125.802852</td>\n",
       "      <td>12996.528467</td>\n",
       "      <td>3.0</td>\n",
       "      <td>11831.5</td>\n",
       "      <td>23565.0</td>\n",
       "      <td>34441.5</td>\n",
       "      <td>44950.0</td>\n",
       "      <td>7223.0</td>\n",
       "      <td>68077.802852</td>\n",
       "      <td>12996.528467</td>\n",
       "      <td>44955.0</td>\n",
       "      <td>56783.5</td>\n",
       "      <td>68517.0</td>\n",
       "      <td>79393.5</td>\n",
       "      <td>89902.0</td>\n",
       "    </tr>\n",
       "  </tbody>\n",
       "</table>\n",
       "</div>"
      ],
      "text/plain": [
       "                   UserName                                            \\\n",
       "                      count          mean           std  min      25%   \n",
       "Sentiment                                                               \n",
       "Extremely Negative   6073.0  20932.917504  12957.616546  1.0   9768.0   \n",
       "Extremely Positive   7223.0  23125.802852  12996.528467  3.0  11831.5   \n",
       "\n",
       "                                              ScreenName                \\\n",
       "                        50%      75%      max      count          mean   \n",
       "Sentiment                                                                \n",
       "Extremely Negative  19657.0  31976.0  44952.0     6073.0  65884.917504   \n",
       "Extremely Positive  23565.0  34441.5  44950.0     7223.0  68077.802852   \n",
       "\n",
       "                                                                               \n",
       "                             std      min      25%      50%      75%      max  \n",
       "Sentiment                                                                      \n",
       "Extremely Negative  12957.616546  44953.0  54720.0  64609.0  76928.0  89904.0  \n",
       "Extremely Positive  12996.528467  44955.0  56783.5  68517.0  79393.5  89902.0  "
      ]
     },
     "execution_count": 8,
     "metadata": {},
     "output_type": "execute_result"
    }
   ],
   "source": [
    "df.groupby('Sentiment').describe()"
   ]
  },
  {
   "cell_type": "code",
   "execution_count": 9,
   "id": "e732f858",
   "metadata": {},
   "outputs": [
    {
     "data": {
      "text/html": [
       "<div>\n",
       "<style scoped>\n",
       "    .dataframe tbody tr th:only-of-type {\n",
       "        vertical-align: middle;\n",
       "    }\n",
       "\n",
       "    .dataframe tbody tr th {\n",
       "        vertical-align: top;\n",
       "    }\n",
       "\n",
       "    .dataframe thead th {\n",
       "        text-align: right;\n",
       "    }\n",
       "</style>\n",
       "<table border=\"1\" class=\"dataframe\">\n",
       "  <thead>\n",
       "    <tr style=\"text-align: right;\">\n",
       "      <th></th>\n",
       "      <th>UserName</th>\n",
       "      <th>ScreenName</th>\n",
       "      <th>Location</th>\n",
       "      <th>TweetAt</th>\n",
       "      <th>OriginalTweet</th>\n",
       "      <th>Sentiment</th>\n",
       "    </tr>\n",
       "  </thead>\n",
       "  <tbody>\n",
       "    <tr>\n",
       "      <th>4</th>\n",
       "      <td>3803</td>\n",
       "      <td>48755</td>\n",
       "      <td>NaN</td>\n",
       "      <td>16-03-2020</td>\n",
       "      <td>Me, ready to go at supermarket during the #COV...</td>\n",
       "      <td>Extremely Negative</td>\n",
       "    </tr>\n",
       "    <tr>\n",
       "      <th>11</th>\n",
       "      <td>3810</td>\n",
       "      <td>48762</td>\n",
       "      <td>Pitt Meadows, BC, Canada</td>\n",
       "      <td>16-03-2020</td>\n",
       "      <td>Due to the Covid-19 situation, we have increas...</td>\n",
       "      <td>Extremely Positive</td>\n",
       "    </tr>\n",
       "    <tr>\n",
       "      <th>12</th>\n",
       "      <td>3811</td>\n",
       "      <td>48763</td>\n",
       "      <td>Horningsea</td>\n",
       "      <td>16-03-2020</td>\n",
       "      <td>#horningsea is a caring community. LetÂs ALL ...</td>\n",
       "      <td>Extremely Positive</td>\n",
       "    </tr>\n",
       "    <tr>\n",
       "      <th>18</th>\n",
       "      <td>3817</td>\n",
       "      <td>48769</td>\n",
       "      <td>North America</td>\n",
       "      <td>16-03-2020</td>\n",
       "      <td>Amazon Glitch Stymies Whole Foods, Fresh Groce...</td>\n",
       "      <td>Extremely Positive</td>\n",
       "    </tr>\n",
       "    <tr>\n",
       "      <th>20</th>\n",
       "      <td>3819</td>\n",
       "      <td>48771</td>\n",
       "      <td>southampton soxx xxx</td>\n",
       "      <td>16-03-2020</td>\n",
       "      <td>with 100  nations inficted with  covid  19  th...</td>\n",
       "      <td>Extremely Negative</td>\n",
       "    </tr>\n",
       "  </tbody>\n",
       "</table>\n",
       "</div>"
      ],
      "text/plain": [
       "    UserName  ScreenName                   Location     TweetAt  \\\n",
       "4       3803       48755                        NaN  16-03-2020   \n",
       "11      3810       48762  Pitt Meadows, BC, Canada   16-03-2020   \n",
       "12      3811       48763                 Horningsea  16-03-2020   \n",
       "18      3817       48769              North America  16-03-2020   \n",
       "20      3819       48771       southampton soxx xxx  16-03-2020   \n",
       "\n",
       "                                        OriginalTweet           Sentiment  \n",
       "4   Me, ready to go at supermarket during the #COV...  Extremely Negative  \n",
       "11  Due to the Covid-19 situation, we have increas...  Extremely Positive  \n",
       "12  #horningsea is a caring community. LetÂs ALL ...  Extremely Positive  \n",
       "18  Amazon Glitch Stymies Whole Foods, Fresh Groce...  Extremely Positive  \n",
       "20  with 100  nations inficted with  covid  19  th...  Extremely Negative  "
      ]
     },
     "execution_count": 9,
     "metadata": {},
     "output_type": "execute_result"
    }
   ],
   "source": [
    "df.head()"
   ]
  },
  {
   "cell_type": "code",
   "execution_count": 10,
   "id": "040755b6",
   "metadata": {},
   "outputs": [],
   "source": [
    "df.drop(['UserName','ScreenName','Location','TweetAt'],axis=1,inplace=True)"
   ]
  },
  {
   "cell_type": "code",
   "execution_count": 11,
   "id": "3cb78e4f",
   "metadata": {},
   "outputs": [
    {
     "data": {
      "text/html": [
       "<div>\n",
       "<style scoped>\n",
       "    .dataframe tbody tr th:only-of-type {\n",
       "        vertical-align: middle;\n",
       "    }\n",
       "\n",
       "    .dataframe tbody tr th {\n",
       "        vertical-align: top;\n",
       "    }\n",
       "\n",
       "    .dataframe thead th {\n",
       "        text-align: right;\n",
       "    }\n",
       "</style>\n",
       "<table border=\"1\" class=\"dataframe\">\n",
       "  <thead>\n",
       "    <tr style=\"text-align: right;\">\n",
       "      <th></th>\n",
       "      <th>OriginalTweet</th>\n",
       "      <th>Sentiment</th>\n",
       "    </tr>\n",
       "  </thead>\n",
       "  <tbody>\n",
       "    <tr>\n",
       "      <th>4</th>\n",
       "      <td>Me, ready to go at supermarket during the #COV...</td>\n",
       "      <td>Extremely Negative</td>\n",
       "    </tr>\n",
       "    <tr>\n",
       "      <th>11</th>\n",
       "      <td>Due to the Covid-19 situation, we have increas...</td>\n",
       "      <td>Extremely Positive</td>\n",
       "    </tr>\n",
       "    <tr>\n",
       "      <th>12</th>\n",
       "      <td>#horningsea is a caring community. LetÂs ALL ...</td>\n",
       "      <td>Extremely Positive</td>\n",
       "    </tr>\n",
       "    <tr>\n",
       "      <th>18</th>\n",
       "      <td>Amazon Glitch Stymies Whole Foods, Fresh Groce...</td>\n",
       "      <td>Extremely Positive</td>\n",
       "    </tr>\n",
       "    <tr>\n",
       "      <th>20</th>\n",
       "      <td>with 100  nations inficted with  covid  19  th...</td>\n",
       "      <td>Extremely Negative</td>\n",
       "    </tr>\n",
       "  </tbody>\n",
       "</table>\n",
       "</div>"
      ],
      "text/plain": [
       "                                        OriginalTweet           Sentiment\n",
       "4   Me, ready to go at supermarket during the #COV...  Extremely Negative\n",
       "11  Due to the Covid-19 situation, we have increas...  Extremely Positive\n",
       "12  #horningsea is a caring community. LetÂs ALL ...  Extremely Positive\n",
       "18  Amazon Glitch Stymies Whole Foods, Fresh Groce...  Extremely Positive\n",
       "20  with 100  nations inficted with  covid  19  th...  Extremely Negative"
      ]
     },
     "execution_count": 11,
     "metadata": {},
     "output_type": "execute_result"
    }
   ],
   "source": [
    "df.head()"
   ]
  },
  {
   "cell_type": "code",
   "execution_count": null,
   "id": "d1e549bd",
   "metadata": {},
   "outputs": [],
   "source": []
  },
  {
   "cell_type": "code",
   "execution_count": 12,
   "id": "46b91de0",
   "metadata": {},
   "outputs": [],
   "source": [
    "df['stop_word_count'] = df['OriginalTweet'].apply(lambda x: len([w for w in str(x).lower().split() if w in STOPWORDS]))"
   ]
  },
  {
   "cell_type": "code",
   "execution_count": 13,
   "id": "6bebd556",
   "metadata": {},
   "outputs": [
    {
     "data": {
      "text/html": [
       "<div>\n",
       "<style scoped>\n",
       "    .dataframe tbody tr th:only-of-type {\n",
       "        vertical-align: middle;\n",
       "    }\n",
       "\n",
       "    .dataframe tbody tr th {\n",
       "        vertical-align: top;\n",
       "    }\n",
       "\n",
       "    .dataframe thead th {\n",
       "        text-align: right;\n",
       "    }\n",
       "</style>\n",
       "<table border=\"1\" class=\"dataframe\">\n",
       "  <thead>\n",
       "    <tr style=\"text-align: right;\">\n",
       "      <th></th>\n",
       "      <th>OriginalTweet</th>\n",
       "      <th>Sentiment</th>\n",
       "      <th>stop_word_count</th>\n",
       "    </tr>\n",
       "  </thead>\n",
       "  <tbody>\n",
       "    <tr>\n",
       "      <th>4</th>\n",
       "      <td>Me, ready to go at supermarket during the #COV...</td>\n",
       "      <td>Extremely Negative</td>\n",
       "      <td>17</td>\n",
       "    </tr>\n",
       "    <tr>\n",
       "      <th>11</th>\n",
       "      <td>Due to the Covid-19 situation, we have increas...</td>\n",
       "      <td>Extremely Positive</td>\n",
       "      <td>17</td>\n",
       "    </tr>\n",
       "    <tr>\n",
       "      <th>12</th>\n",
       "      <td>#horningsea is a caring community. LetÂs ALL ...</td>\n",
       "      <td>Extremely Positive</td>\n",
       "      <td>20</td>\n",
       "    </tr>\n",
       "    <tr>\n",
       "      <th>18</th>\n",
       "      <td>Amazon Glitch Stymies Whole Foods, Fresh Groce...</td>\n",
       "      <td>Extremely Positive</td>\n",
       "      <td>11</td>\n",
       "    </tr>\n",
       "    <tr>\n",
       "      <th>20</th>\n",
       "      <td>with 100  nations inficted with  covid  19  th...</td>\n",
       "      <td>Extremely Negative</td>\n",
       "      <td>13</td>\n",
       "    </tr>\n",
       "  </tbody>\n",
       "</table>\n",
       "</div>"
      ],
      "text/plain": [
       "                                        OriginalTweet           Sentiment  \\\n",
       "4   Me, ready to go at supermarket during the #COV...  Extremely Negative   \n",
       "11  Due to the Covid-19 situation, we have increas...  Extremely Positive   \n",
       "12  #horningsea is a caring community. LetÂs ALL ...  Extremely Positive   \n",
       "18  Amazon Glitch Stymies Whole Foods, Fresh Groce...  Extremely Positive   \n",
       "20  with 100  nations inficted with  covid  19  th...  Extremely Negative   \n",
       "\n",
       "    stop_word_count  \n",
       "4                17  \n",
       "11               17  \n",
       "12               20  \n",
       "18               11  \n",
       "20               13  "
      ]
     },
     "execution_count": 13,
     "metadata": {},
     "output_type": "execute_result"
    }
   ],
   "source": [
    "df.head()"
   ]
  },
  {
   "cell_type": "code",
   "execution_count": 14,
   "id": "f899fb09",
   "metadata": {},
   "outputs": [],
   "source": [
    "def clean(tweets):\n",
    "    tweets=re.sub('@[^\\s]+',' ',tweets)\n",
    "    tweets=re.sub(r'http\\S+', ' ', tweets)\n",
    "    tweets=re.sub('[^A-Za-z0-9]+', ' ', tweets)\n",
    "    return tweets"
   ]
  },
  {
   "cell_type": "code",
   "execution_count": null,
   "id": "eb50d430",
   "metadata": {},
   "outputs": [],
   "source": []
  },
  {
   "cell_type": "code",
   "execution_count": 15,
   "id": "51efc6bf",
   "metadata": {},
   "outputs": [],
   "source": [
    "df['text_cleaned'] = df['OriginalTweet'].apply(lambda s : clean(s))"
   ]
  },
  {
   "cell_type": "code",
   "execution_count": 16,
   "id": "3bc06060",
   "metadata": {},
   "outputs": [
    {
     "data": {
      "text/html": [
       "<div>\n",
       "<style scoped>\n",
       "    .dataframe tbody tr th:only-of-type {\n",
       "        vertical-align: middle;\n",
       "    }\n",
       "\n",
       "    .dataframe tbody tr th {\n",
       "        vertical-align: top;\n",
       "    }\n",
       "\n",
       "    .dataframe thead th {\n",
       "        text-align: right;\n",
       "    }\n",
       "</style>\n",
       "<table border=\"1\" class=\"dataframe\">\n",
       "  <thead>\n",
       "    <tr style=\"text-align: right;\">\n",
       "      <th></th>\n",
       "      <th>OriginalTweet</th>\n",
       "      <th>Sentiment</th>\n",
       "      <th>stop_word_count</th>\n",
       "      <th>text_cleaned</th>\n",
       "    </tr>\n",
       "  </thead>\n",
       "  <tbody>\n",
       "    <tr>\n",
       "      <th>4</th>\n",
       "      <td>Me, ready to go at supermarket during the #COV...</td>\n",
       "      <td>Extremely Negative</td>\n",
       "      <td>17</td>\n",
       "      <td>Me ready to go at supermarket during the COVID...</td>\n",
       "    </tr>\n",
       "    <tr>\n",
       "      <th>11</th>\n",
       "      <td>Due to the Covid-19 situation, we have increas...</td>\n",
       "      <td>Extremely Positive</td>\n",
       "      <td>17</td>\n",
       "      <td>Due to the Covid 19 situation we have increase...</td>\n",
       "    </tr>\n",
       "    <tr>\n",
       "      <th>12</th>\n",
       "      <td>#horningsea is a caring community. LetÂs ALL ...</td>\n",
       "      <td>Extremely Positive</td>\n",
       "      <td>20</td>\n",
       "      <td>horningsea is a caring community Let s ALL lo...</td>\n",
       "    </tr>\n",
       "    <tr>\n",
       "      <th>18</th>\n",
       "      <td>Amazon Glitch Stymies Whole Foods, Fresh Groce...</td>\n",
       "      <td>Extremely Positive</td>\n",
       "      <td>11</td>\n",
       "      <td>Amazon Glitch Stymies Whole Foods Fresh Grocer...</td>\n",
       "    </tr>\n",
       "    <tr>\n",
       "      <th>20</th>\n",
       "      <td>with 100  nations inficted with  covid  19  th...</td>\n",
       "      <td>Extremely Negative</td>\n",
       "      <td>13</td>\n",
       "      <td>with 100 nations inficted with covid 19 the wo...</td>\n",
       "    </tr>\n",
       "  </tbody>\n",
       "</table>\n",
       "</div>"
      ],
      "text/plain": [
       "                                        OriginalTweet           Sentiment  \\\n",
       "4   Me, ready to go at supermarket during the #COV...  Extremely Negative   \n",
       "11  Due to the Covid-19 situation, we have increas...  Extremely Positive   \n",
       "12  #horningsea is a caring community. LetÂs ALL ...  Extremely Positive   \n",
       "18  Amazon Glitch Stymies Whole Foods, Fresh Groce...  Extremely Positive   \n",
       "20  with 100  nations inficted with  covid  19  th...  Extremely Negative   \n",
       "\n",
       "    stop_word_count                                       text_cleaned  \n",
       "4                17  Me ready to go at supermarket during the COVID...  \n",
       "11               17  Due to the Covid 19 situation we have increase...  \n",
       "12               20   horningsea is a caring community Let s ALL lo...  \n",
       "18               11  Amazon Glitch Stymies Whole Foods Fresh Grocer...  \n",
       "20               13  with 100 nations inficted with covid 19 the wo...  "
      ]
     },
     "execution_count": 16,
     "metadata": {},
     "output_type": "execute_result"
    }
   ],
   "source": [
    "df.head()"
   ]
  },
  {
   "cell_type": "code",
   "execution_count": 17,
   "id": "324c6cbf",
   "metadata": {},
   "outputs": [
    {
     "data": {
      "text/plain": [
       "'TRENDING New Yorkers encounter empty supermarket shelves pictured Wegmans in Brooklyn sold out online grocers FoodKick MaxDelivery as coronavirus fearing shoppers stock up '"
      ]
     },
     "execution_count": 17,
     "metadata": {},
     "output_type": "execute_result"
    }
   ],
   "source": [
    "df['text_cleaned'][0]"
   ]
  },
  {
   "cell_type": "code",
   "execution_count": 18,
   "id": "3d96e07e",
   "metadata": {},
   "outputs": [
    {
     "data": {
      "text/html": [
       "<div>\n",
       "<style scoped>\n",
       "    .dataframe tbody tr th:only-of-type {\n",
       "        vertical-align: middle;\n",
       "    }\n",
       "\n",
       "    .dataframe tbody tr th {\n",
       "        vertical-align: top;\n",
       "    }\n",
       "\n",
       "    .dataframe thead th {\n",
       "        text-align: right;\n",
       "    }\n",
       "</style>\n",
       "<table border=\"1\" class=\"dataframe\">\n",
       "  <thead>\n",
       "    <tr style=\"text-align: right;\">\n",
       "      <th></th>\n",
       "      <th>OriginalTweet</th>\n",
       "      <th>Sentiment</th>\n",
       "      <th>stop_word_count</th>\n",
       "      <th>text_cleaned</th>\n",
       "    </tr>\n",
       "  </thead>\n",
       "  <tbody>\n",
       "    <tr>\n",
       "      <th>4</th>\n",
       "      <td>Me, ready to go at supermarket during the #COV...</td>\n",
       "      <td>Extremely Negative</td>\n",
       "      <td>17</td>\n",
       "      <td>Me ready to go at supermarket during the COVID...</td>\n",
       "    </tr>\n",
       "    <tr>\n",
       "      <th>11</th>\n",
       "      <td>Due to the Covid-19 situation, we have increas...</td>\n",
       "      <td>Extremely Positive</td>\n",
       "      <td>17</td>\n",
       "      <td>Due to the Covid 19 situation we have increase...</td>\n",
       "    </tr>\n",
       "    <tr>\n",
       "      <th>12</th>\n",
       "      <td>#horningsea is a caring community. LetÂs ALL ...</td>\n",
       "      <td>Extremely Positive</td>\n",
       "      <td>20</td>\n",
       "      <td>horningsea is a caring community Let s ALL lo...</td>\n",
       "    </tr>\n",
       "    <tr>\n",
       "      <th>18</th>\n",
       "      <td>Amazon Glitch Stymies Whole Foods, Fresh Groce...</td>\n",
       "      <td>Extremely Positive</td>\n",
       "      <td>11</td>\n",
       "      <td>Amazon Glitch Stymies Whole Foods Fresh Grocer...</td>\n",
       "    </tr>\n",
       "    <tr>\n",
       "      <th>20</th>\n",
       "      <td>with 100  nations inficted with  covid  19  th...</td>\n",
       "      <td>Extremely Negative</td>\n",
       "      <td>13</td>\n",
       "      <td>with 100 nations inficted with covid 19 the wo...</td>\n",
       "    </tr>\n",
       "    <tr>\n",
       "      <th>22</th>\n",
       "      <td>We have AMAZING CHEAP DEALS! FOR THE #COVID201...</td>\n",
       "      <td>Extremely Positive</td>\n",
       "      <td>8</td>\n",
       "      <td>We have AMAZING CHEAP DEALS FOR THE COVID2019 ...</td>\n",
       "    </tr>\n",
       "    <tr>\n",
       "      <th>23</th>\n",
       "      <td>We have AMAZING CHEAP DEALS! FOR THE #COVID201...</td>\n",
       "      <td>Extremely Positive</td>\n",
       "      <td>8</td>\n",
       "      <td>We have AMAZING CHEAP DEALS FOR THE COVID2019 ...</td>\n",
       "    </tr>\n",
       "    <tr>\n",
       "      <th>27</th>\n",
       "      <td>This morning I tested positive for Covid 19. I...</td>\n",
       "      <td>Extremely Negative</td>\n",
       "      <td>26</td>\n",
       "      <td>This morning I tested positive for Covid 19 I ...</td>\n",
       "    </tr>\n",
       "    <tr>\n",
       "      <th>29</th>\n",
       "      <td>@7SealsOfTheEnd Soon with dwindling supplies u...</td>\n",
       "      <td>Extremely Negative</td>\n",
       "      <td>13</td>\n",
       "      <td>Soon with dwindling supplies unlawful Panicky...</td>\n",
       "    </tr>\n",
       "    <tr>\n",
       "      <th>42</th>\n",
       "      <td>CHECK VIDEO ?? https://t.co/1ksn9Brl02 ??No fo...</td>\n",
       "      <td>Extremely Negative</td>\n",
       "      <td>4</td>\n",
       "      <td>CHECK VIDEO No food in USA market due to coron...</td>\n",
       "    </tr>\n",
       "  </tbody>\n",
       "</table>\n",
       "</div>"
      ],
      "text/plain": [
       "                                        OriginalTweet           Sentiment  \\\n",
       "4   Me, ready to go at supermarket during the #COV...  Extremely Negative   \n",
       "11  Due to the Covid-19 situation, we have increas...  Extremely Positive   \n",
       "12  #horningsea is a caring community. LetÂs ALL ...  Extremely Positive   \n",
       "18  Amazon Glitch Stymies Whole Foods, Fresh Groce...  Extremely Positive   \n",
       "20  with 100  nations inficted with  covid  19  th...  Extremely Negative   \n",
       "22  We have AMAZING CHEAP DEALS! FOR THE #COVID201...  Extremely Positive   \n",
       "23  We have AMAZING CHEAP DEALS! FOR THE #COVID201...  Extremely Positive   \n",
       "27  This morning I tested positive for Covid 19. I...  Extremely Negative   \n",
       "29  @7SealsOfTheEnd Soon with dwindling supplies u...  Extremely Negative   \n",
       "42  CHECK VIDEO ?? https://t.co/1ksn9Brl02 ??No fo...  Extremely Negative   \n",
       "\n",
       "    stop_word_count                                       text_cleaned  \n",
       "4                17  Me ready to go at supermarket during the COVID...  \n",
       "11               17  Due to the Covid 19 situation we have increase...  \n",
       "12               20   horningsea is a caring community Let s ALL lo...  \n",
       "18               11  Amazon Glitch Stymies Whole Foods Fresh Grocer...  \n",
       "20               13  with 100 nations inficted with covid 19 the wo...  \n",
       "22                8  We have AMAZING CHEAP DEALS FOR THE COVID2019 ...  \n",
       "23                8  We have AMAZING CHEAP DEALS FOR THE COVID2019 ...  \n",
       "27               26  This morning I tested positive for Covid 19 I ...  \n",
       "29               13   Soon with dwindling supplies unlawful Panicky...  \n",
       "42                4  CHECK VIDEO No food in USA market due to coron...  "
      ]
     },
     "execution_count": 18,
     "metadata": {},
     "output_type": "execute_result"
    }
   ],
   "source": [
    "df.groupby('Sentiment').head()"
   ]
  },
  {
   "cell_type": "code",
   "execution_count": 19,
   "id": "e46b5964",
   "metadata": {},
   "outputs": [
    {
     "data": {
      "text/plain": [
       "Extremely Positive    7223\n",
       "Extremely Negative    6073\n",
       "Name: Sentiment, dtype: int64"
      ]
     },
     "execution_count": 19,
     "metadata": {},
     "output_type": "execute_result"
    }
   ],
   "source": [
    "df.Sentiment.value_counts()"
   ]
  },
  {
   "cell_type": "code",
   "execution_count": 20,
   "id": "bc5198bd",
   "metadata": {},
   "outputs": [],
   "source": [
    "from sklearn import preprocessing\n",
    "  \n",
    "# label_encoder object knows how to understand word labels.\n",
    "label_encoder = preprocessing.LabelEncoder()\n",
    "  "
   ]
  },
  {
   "cell_type": "code",
   "execution_count": 21,
   "id": "c147fe39",
   "metadata": {},
   "outputs": [],
   "source": [
    "df['Sentiment']=label_encoder.fit_transform(df['Sentiment'])"
   ]
  },
  {
   "cell_type": "code",
   "execution_count": 22,
   "id": "f97e8313",
   "metadata": {},
   "outputs": [
    {
     "data": {
      "text/html": [
       "<div>\n",
       "<style scoped>\n",
       "    .dataframe tbody tr th:only-of-type {\n",
       "        vertical-align: middle;\n",
       "    }\n",
       "\n",
       "    .dataframe tbody tr th {\n",
       "        vertical-align: top;\n",
       "    }\n",
       "\n",
       "    .dataframe thead th {\n",
       "        text-align: right;\n",
       "    }\n",
       "</style>\n",
       "<table border=\"1\" class=\"dataframe\">\n",
       "  <thead>\n",
       "    <tr style=\"text-align: right;\">\n",
       "      <th></th>\n",
       "      <th>OriginalTweet</th>\n",
       "      <th>Sentiment</th>\n",
       "      <th>stop_word_count</th>\n",
       "      <th>text_cleaned</th>\n",
       "    </tr>\n",
       "  </thead>\n",
       "  <tbody>\n",
       "    <tr>\n",
       "      <th>4</th>\n",
       "      <td>Me, ready to go at supermarket during the #COV...</td>\n",
       "      <td>0</td>\n",
       "      <td>17</td>\n",
       "      <td>Me ready to go at supermarket during the COVID...</td>\n",
       "    </tr>\n",
       "    <tr>\n",
       "      <th>11</th>\n",
       "      <td>Due to the Covid-19 situation, we have increas...</td>\n",
       "      <td>1</td>\n",
       "      <td>17</td>\n",
       "      <td>Due to the Covid 19 situation we have increase...</td>\n",
       "    </tr>\n",
       "    <tr>\n",
       "      <th>12</th>\n",
       "      <td>#horningsea is a caring community. LetÂs ALL ...</td>\n",
       "      <td>1</td>\n",
       "      <td>20</td>\n",
       "      <td>horningsea is a caring community Let s ALL lo...</td>\n",
       "    </tr>\n",
       "    <tr>\n",
       "      <th>18</th>\n",
       "      <td>Amazon Glitch Stymies Whole Foods, Fresh Groce...</td>\n",
       "      <td>1</td>\n",
       "      <td>11</td>\n",
       "      <td>Amazon Glitch Stymies Whole Foods Fresh Grocer...</td>\n",
       "    </tr>\n",
       "    <tr>\n",
       "      <th>20</th>\n",
       "      <td>with 100  nations inficted with  covid  19  th...</td>\n",
       "      <td>0</td>\n",
       "      <td>13</td>\n",
       "      <td>with 100 nations inficted with covid 19 the wo...</td>\n",
       "    </tr>\n",
       "  </tbody>\n",
       "</table>\n",
       "</div>"
      ],
      "text/plain": [
       "                                        OriginalTweet  Sentiment  \\\n",
       "4   Me, ready to go at supermarket during the #COV...          0   \n",
       "11  Due to the Covid-19 situation, we have increas...          1   \n",
       "12  #horningsea is a caring community. LetÂs ALL ...          1   \n",
       "18  Amazon Glitch Stymies Whole Foods, Fresh Groce...          1   \n",
       "20  with 100  nations inficted with  covid  19  th...          0   \n",
       "\n",
       "    stop_word_count                                       text_cleaned  \n",
       "4                17  Me ready to go at supermarket during the COVID...  \n",
       "11               17  Due to the Covid 19 situation we have increase...  \n",
       "12               20   horningsea is a caring community Let s ALL lo...  \n",
       "18               11  Amazon Glitch Stymies Whole Foods Fresh Grocer...  \n",
       "20               13  with 100 nations inficted with covid 19 the wo...  "
      ]
     },
     "execution_count": 22,
     "metadata": {},
     "output_type": "execute_result"
    }
   ],
   "source": [
    "df.head()"
   ]
  },
  {
   "cell_type": "code",
   "execution_count": 23,
   "id": "d23ee1a6",
   "metadata": {},
   "outputs": [],
   "source": [
    "df.drop(['OriginalTweet','stop_word_count'],axis=1, inplace=True)"
   ]
  },
  {
   "cell_type": "code",
   "execution_count": 24,
   "id": "2dd17565",
   "metadata": {},
   "outputs": [
    {
     "data": {
      "text/html": [
       "<div>\n",
       "<style scoped>\n",
       "    .dataframe tbody tr th:only-of-type {\n",
       "        vertical-align: middle;\n",
       "    }\n",
       "\n",
       "    .dataframe tbody tr th {\n",
       "        vertical-align: top;\n",
       "    }\n",
       "\n",
       "    .dataframe thead th {\n",
       "        text-align: right;\n",
       "    }\n",
       "</style>\n",
       "<table border=\"1\" class=\"dataframe\">\n",
       "  <thead>\n",
       "    <tr style=\"text-align: right;\">\n",
       "      <th></th>\n",
       "      <th>Sentiment</th>\n",
       "      <th>text_cleaned</th>\n",
       "    </tr>\n",
       "  </thead>\n",
       "  <tbody>\n",
       "    <tr>\n",
       "      <th>4</th>\n",
       "      <td>0</td>\n",
       "      <td>Me ready to go at supermarket during the COVID...</td>\n",
       "    </tr>\n",
       "    <tr>\n",
       "      <th>11</th>\n",
       "      <td>1</td>\n",
       "      <td>Due to the Covid 19 situation we have increase...</td>\n",
       "    </tr>\n",
       "    <tr>\n",
       "      <th>12</th>\n",
       "      <td>1</td>\n",
       "      <td>horningsea is a caring community Let s ALL lo...</td>\n",
       "    </tr>\n",
       "    <tr>\n",
       "      <th>18</th>\n",
       "      <td>1</td>\n",
       "      <td>Amazon Glitch Stymies Whole Foods Fresh Grocer...</td>\n",
       "    </tr>\n",
       "    <tr>\n",
       "      <th>20</th>\n",
       "      <td>0</td>\n",
       "      <td>with 100 nations inficted with covid 19 the wo...</td>\n",
       "    </tr>\n",
       "  </tbody>\n",
       "</table>\n",
       "</div>"
      ],
      "text/plain": [
       "    Sentiment                                       text_cleaned\n",
       "4           0  Me ready to go at supermarket during the COVID...\n",
       "11          1  Due to the Covid 19 situation we have increase...\n",
       "12          1   horningsea is a caring community Let s ALL lo...\n",
       "18          1  Amazon Glitch Stymies Whole Foods Fresh Grocer...\n",
       "20          0  with 100 nations inficted with covid 19 the wo..."
      ]
     },
     "execution_count": 24,
     "metadata": {},
     "output_type": "execute_result"
    }
   ],
   "source": [
    "df.head()"
   ]
  },
  {
   "cell_type": "code",
   "execution_count": 25,
   "id": "84226f7c",
   "metadata": {},
   "outputs": [],
   "source": [
    "from sklearn.model_selection import train_test_split\n",
    "\n",
    "X_train, X_test, y_train, y_test = train_test_split(df['text_cleaned'],df['Sentiment'], stratify=df['Sentiment'])"
   ]
  },
  {
   "cell_type": "code",
   "execution_count": 26,
   "id": "fc2a87f7",
   "metadata": {},
   "outputs": [],
   "source": [
    "bert_preprocess = hub.KerasLayer(\"https://tfhub.dev/tensorflow/bert_en_uncased_preprocess/3\")\n",
    "bert_encoder = hub.KerasLayer(\"https://tfhub.dev/tensorflow/bert_en_uncased_L-12_H-768_A-12/4\")"
   ]
  },
  {
   "cell_type": "code",
   "execution_count": 27,
   "id": "e56a9af9",
   "metadata": {},
   "outputs": [
    {
     "data": {
      "text/plain": [
       "<tf.Tensor: shape=(2, 768), dtype=float32, numpy=\n",
       "array([[-0.8435169 , -0.5132728 , -0.8884575 , ..., -0.74748886,\n",
       "        -0.7531474 ,  0.91964495],\n",
       "       [-0.8720836 , -0.5054398 , -0.94446677, ..., -0.8584752 ,\n",
       "        -0.71745354,  0.8808298 ]], dtype=float32)>"
      ]
     },
     "execution_count": 27,
     "metadata": {},
     "output_type": "execute_result"
    }
   ],
   "source": [
    "def get_sentence_embeding(sentences):\n",
    "    preprocessed_text = bert_preprocess(sentences)\n",
    "    return bert_encoder(preprocessed_text)['pooled_output']\n",
    "\n",
    "get_sentence_embeding([\n",
    "    \"500$ discount. hurry up\", \n",
    "    \"Bhavin, are you up for a volleybal game tomorrow?\"]\n",
    ")"
   ]
  },
  {
   "cell_type": "code",
   "execution_count": 28,
   "id": "97535336",
   "metadata": {},
   "outputs": [],
   "source": [
    "e = get_sentence_embeding([\n",
    "    \"banana\", \n",
    "    \"grapes\",\n",
    "    \"mango\",\n",
    "    \"jeff bezos\",\n",
    "    \"elon musk\",\n",
    "    \"bill gates\"\n",
    "]\n",
    ")"
   ]
  },
  {
   "cell_type": "code",
   "execution_count": 29,
   "id": "ad0cd1b8",
   "metadata": {},
   "outputs": [
    {
     "data": {
      "text/plain": [
       "array([[0.9911088]], dtype=float32)"
      ]
     },
     "execution_count": 29,
     "metadata": {},
     "output_type": "execute_result"
    }
   ],
   "source": [
    "from sklearn.metrics.pairwise import cosine_similarity\n",
    "cosine_similarity([e[0]],[e[1]])"
   ]
  },
  {
   "cell_type": "code",
   "execution_count": 30,
   "id": "51daba09",
   "metadata": {},
   "outputs": [
    {
     "data": {
      "text/plain": [
       "array([[0.8470379]], dtype=float32)"
      ]
     },
     "execution_count": 30,
     "metadata": {},
     "output_type": "execute_result"
    }
   ],
   "source": [
    "cosine_similarity([e[0]],[e[3]])"
   ]
  },
  {
   "cell_type": "code",
   "execution_count": 31,
   "id": "128d8851",
   "metadata": {},
   "outputs": [
    {
     "data": {
      "text/plain": [
       "array([[0.98720354]], dtype=float32)"
      ]
     },
     "execution_count": 31,
     "metadata": {},
     "output_type": "execute_result"
    }
   ],
   "source": [
    "cosine_similarity([e[3]],[e[4]])"
   ]
  },
  {
   "cell_type": "code",
   "execution_count": 32,
   "id": "f0bc5101",
   "metadata": {},
   "outputs": [],
   "source": [
    "# Bert layers\n",
    "text_input = tf.keras.layers.Input(shape=(), dtype=tf.string, name='text')\n",
    "preprocessed_text = bert_preprocess(text_input)\n",
    "outputs = bert_encoder(preprocessed_text)\n",
    "\n",
    "# Neural network layers\n",
    "l = tf.keras.layers.Dropout(0.1, name=\"dropout\")(outputs['pooled_output'])\n",
    "l = tf.keras.layers.Dense(1, activation='sigmoid', name=\"output\")(l)\n",
    "\n",
    "# Use inputs and outputs to construct a final model\n",
    "model = tf.keras.Model(inputs=[text_input], outputs = [l])"
   ]
  },
  {
   "cell_type": "code",
   "execution_count": 33,
   "id": "15dee391",
   "metadata": {},
   "outputs": [
    {
     "name": "stdout",
     "output_type": "stream",
     "text": [
      "Model: \"model\"\n",
      "__________________________________________________________________________________________________\n",
      "Layer (type)                    Output Shape         Param #     Connected to                     \n",
      "==================================================================================================\n",
      "text (InputLayer)               [(None,)]            0                                            \n",
      "__________________________________________________________________________________________________\n",
      "keras_layer (KerasLayer)        {'input_mask': (None 0           text[0][0]                       \n",
      "__________________________________________________________________________________________________\n",
      "keras_layer_1 (KerasLayer)      {'default': (None, 7 109482241   keras_layer[0][0]                \n",
      "                                                                 keras_layer[0][1]                \n",
      "                                                                 keras_layer[0][2]                \n",
      "__________________________________________________________________________________________________\n",
      "dropout (Dropout)               (None, 768)          0           keras_layer_1[0][13]             \n",
      "__________________________________________________________________________________________________\n",
      "output (Dense)                  (None, 1)            769         dropout[0][0]                    \n",
      "==================================================================================================\n",
      "Total params: 109,483,010\n",
      "Trainable params: 769\n",
      "Non-trainable params: 109,482,241\n",
      "__________________________________________________________________________________________________\n"
     ]
    }
   ],
   "source": [
    "model.summary()"
   ]
  },
  {
   "cell_type": "code",
   "execution_count": 34,
   "id": "5fee6cea",
   "metadata": {},
   "outputs": [
    {
     "data": {
      "text/plain": [
       "9972"
      ]
     },
     "execution_count": 34,
     "metadata": {},
     "output_type": "execute_result"
    }
   ],
   "source": [
    "len(X_train)"
   ]
  },
  {
   "cell_type": "code",
   "execution_count": 35,
   "id": "13d73ccc",
   "metadata": {},
   "outputs": [],
   "source": [
    "METRICS = [\n",
    "      tf.keras.metrics.BinaryAccuracy(name='accuracy'),\n",
    "      tf.keras.metrics.Precision(name='precision'),\n",
    "      tf.keras.metrics.Recall(name='recall')\n",
    "]\n",
    "\n",
    "model.compile(optimizer='adam',\n",
    "              loss='binary_crossentropy',\n",
    "              metrics=METRICS)"
   ]
  },
  {
   "cell_type": "code",
   "execution_count": 36,
   "id": "4d425614",
   "metadata": {},
   "outputs": [
    {
     "name": "stdout",
     "output_type": "stream",
     "text": [
      "Epoch 1/10\n",
      "312/312 [==============================] - 2054s 7s/step - loss: 0.6451 - accuracy: 0.6228 - precision: 0.6332 - recall: 0.7266\n",
      "Epoch 2/10\n",
      "312/312 [==============================] - 1665s 5s/step - loss: 0.5838 - accuracy: 0.6942 - precision: 0.6990 - recall: 0.7678\n",
      "Epoch 3/10\n",
      "312/312 [==============================] - 1500s 5s/step - loss: 0.5592 - accuracy: 0.7140 - precision: 0.7234 - recall: 0.7667\n",
      "Epoch 4/10\n",
      "312/312 [==============================] - 1478s 5s/step - loss: 0.5382 - accuracy: 0.7306 - precision: 0.7416 - recall: 0.7737\n",
      "Epoch 5/10\n",
      "312/312 [==============================] - 1458s 5s/step - loss: 0.5299 - accuracy: 0.7364 - precision: 0.7507 - recall: 0.7705\n",
      "Epoch 6/10\n",
      "312/312 [==============================] - 1448s 5s/step - loss: 0.5203 - accuracy: 0.7445 - precision: 0.7582 - recall: 0.7776\n",
      "Epoch 7/10\n",
      "312/312 [==============================] - 1444s 5s/step - loss: 0.5119 - accuracy: 0.7503 - precision: 0.7627 - recall: 0.7844\n",
      "Epoch 8/10\n",
      "312/312 [==============================] - 1443s 5s/step - loss: 0.5085 - accuracy: 0.7531 - precision: 0.7670 - recall: 0.7835\n",
      "Epoch 9/10\n",
      "312/312 [==============================] - 1426s 5s/step - loss: 0.5022 - accuracy: 0.7569 - precision: 0.7714 - recall: 0.7851\n",
      "Epoch 10/10\n",
      "312/312 [==============================] - 1422s 5s/step - loss: 0.4990 - accuracy: 0.7634 - precision: 0.7782 - recall: 0.7896\n"
     ]
    },
    {
     "data": {
      "text/plain": [
       "<keras.callbacks.History at 0x20fe62c9be0>"
      ]
     },
     "execution_count": 36,
     "metadata": {},
     "output_type": "execute_result"
    }
   ],
   "source": [
    "model.fit(X_train, y_train, epochs=10)"
   ]
  },
  {
   "cell_type": "code",
   "execution_count": 37,
   "id": "b245bd7d",
   "metadata": {},
   "outputs": [
    {
     "name": "stdout",
     "output_type": "stream",
     "text": [
      "104/104 [==============================] - 471s 5s/step - loss: 0.4877 - accuracy: 0.7608 - precision: 0.7305 - recall: 0.8870\n"
     ]
    },
    {
     "data": {
      "text/plain": [
       "[0.48765048384666443,\n",
       " 0.7608303427696228,\n",
       " 0.730506181716919,\n",
       " 0.8870431780815125]"
      ]
     },
     "execution_count": 37,
     "metadata": {},
     "output_type": "execute_result"
    }
   ],
   "source": [
    "model.evaluate(X_test, y_test)"
   ]
  },
  {
   "cell_type": "code",
   "execution_count": 38,
   "id": "c5c5aa3b",
   "metadata": {},
   "outputs": [],
   "source": [
    "y_predicted = model.predict(X_test)\n",
    "y_predicted = y_predicted.flatten()"
   ]
  },
  {
   "cell_type": "code",
   "execution_count": 39,
   "id": "e063e949",
   "metadata": {},
   "outputs": [
    {
     "data": {
      "text/plain": [
       "array([1, 1, 0, ..., 1, 0, 1])"
      ]
     },
     "execution_count": 39,
     "metadata": {},
     "output_type": "execute_result"
    }
   ],
   "source": [
    "import numpy as np\n",
    "\n",
    "y_predicted = np.where(y_predicted > 0.5, 1, 0)\n",
    "y_predicted"
   ]
  },
  {
   "cell_type": "code",
   "execution_count": 40,
   "id": "85ad3555",
   "metadata": {},
   "outputs": [
    {
     "data": {
      "text/plain": [
       "array([[ 927,  591],\n",
       "       [ 204, 1602]], dtype=int64)"
      ]
     },
     "execution_count": 40,
     "metadata": {},
     "output_type": "execute_result"
    }
   ],
   "source": [
    "from sklearn.metrics import confusion_matrix, classification_report\n",
    "\n",
    "cm = confusion_matrix(y_test, y_predicted)\n",
    "cm "
   ]
  },
  {
   "cell_type": "code",
   "execution_count": 41,
   "id": "b2360d71",
   "metadata": {},
   "outputs": [
    {
     "data": {
      "text/plain": [
       "Text(33.0, 0.5, 'Truth')"
      ]
     },
     "execution_count": 41,
     "metadata": {},
     "output_type": "execute_result"
    },
    {
     "data": {
      "image/png": "[encoded data removed]",
      "text/plain": [
       "<Figure size 432x288 with 2 Axes>"
      ]
     },
     "metadata": {
      "needs_background": "light"
     },
     "output_type": "display_data"
    }
   ],
   "source": [
    "from matplotlib import pyplot as plt\n",
    "import seaborn as sn\n",
    "sn.heatmap(cm, annot=True, fmt='d')\n",
    "plt.xlabel('Predicted')\n",
    "plt.ylabel('Truth')"
   ]
  },
  {
   "cell_type": "code",
   "execution_count": null,
   "id": "437077c2",
   "metadata": {},
   "outputs": [],
   "source": []
  }
 ],
 "metadata": {
  "kernelspec": {
   "display_name": "Python 3 (ipykernel)",
   "language": "python",
   "name": "python3"
  },
  "language_info": {
   "codemirror_mode": {
    "name": "ipython",
    "version": 3
   },
   "file_extension": ".py",
   "mimetype": "text/x-python",
   "name": "python",
   "nbconvert_exporter": "python",
   "pygments_lexer": "ipython3",
   "version": "3.9.12"
  }
 },
 "nbformat": 4,
 "nbformat_minor": 5
}
